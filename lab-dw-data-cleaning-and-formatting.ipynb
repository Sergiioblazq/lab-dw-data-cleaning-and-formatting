{
  "cells": [
    {
      "cell_type": "markdown",
      "id": "25d7736c-ba17-4aff-b6bb-66eba20fbf4e",
      "metadata": {
        "id": "25d7736c-ba17-4aff-b6bb-66eba20fbf4e"
      },
      "source": [
        "# Lab | Data Cleaning and Formatting"
      ]
    },
    {
      "cell_type": "markdown",
      "id": "d1973e9e-8be6-4039-b70e-d73ee0d94c99",
      "metadata": {
        "id": "d1973e9e-8be6-4039-b70e-d73ee0d94c99"
      },
      "source": [
        "In this lab, we will be working with the customer data from an insurance company, which can be found in the CSV file located at the following link: https://raw.githubusercontent.com/data-bootcamp-v4/data/main/file1.csv\n"
      ]
    },
    {
      "cell_type": "markdown",
      "id": "31b8a9e7-7db9-4604-991b-ef6771603e57",
      "metadata": {
        "id": "31b8a9e7-7db9-4604-991b-ef6771603e57"
      },
      "source": [
        "# Challenge 1: Data Cleaning and Formatting"
      ]
    },
    {
      "cell_type": "markdown",
      "id": "81553f19-9f2c-484b-8940-520aff884022",
      "metadata": {
        "id": "81553f19-9f2c-484b-8940-520aff884022"
      },
      "source": [
        "## Exercise 1: Cleaning Column Names"
      ]
    },
    {
      "cell_type": "markdown",
      "id": "34a929f4-1be4-4fa8-adda-42ffd920be90",
      "metadata": {
        "id": "34a929f4-1be4-4fa8-adda-42ffd920be90"
      },
      "source": [
        "To ensure consistency and ease of use, standardize the column names of the dataframe. Start by taking a first look at the dataframe and identifying any column names that need to be modified. Use appropriate naming conventions and make sure that column names are descriptive and informative.\n",
        "\n",
        "*Hint*:\n",
        "- *Column names should be in lower case*\n",
        "- *White spaces in column names should be replaced by `_`*\n",
        "- *`st` could be replaced for `state`*"
      ]
    },
    {
      "cell_type": "markdown",
      "id": "63d9fb54",
      "metadata": {},
      "source": [
        "```markdown\n",
        "Carguemos el archivo CSV desde la URL proporcionada en el dataframe de pandas para comenzar con el proceso de limpieza y análisis de datos. Utilizaremos la variable `url` que contiene el enlace al archivo.\n",
        "```"
      ]
    },
    {
      "cell_type": "code",
      "execution_count": 6,
      "id": "5810735c-8056-4442-bbf2-dda38d3e284a",
      "metadata": {
        "id": "5810735c-8056-4442-bbf2-dda38d3e284a"
      },
      "outputs": [
        {
          "name": "stdout",
          "output_type": "stream",
          "text": [
            "  Customer          ST GENDER             Education Customer Lifetime Value  \\\n",
            "0  RB50392  Washington    NaN                Master                     NaN   \n",
            "1  QZ44356     Arizona      F              Bachelor              697953.59%   \n",
            "2  AI49188      Nevada      F              Bachelor             1288743.17%   \n",
            "3  WW63253  California      M              Bachelor              764586.18%   \n",
            "4  GA49547  Washington      M  High School or Below              536307.65%   \n",
            "\n",
            "    Income  Monthly Premium Auto Number of Open Complaints     Policy Type  \\\n",
            "0      0.0                1000.0                    1/0/00   Personal Auto   \n",
            "1      0.0                  94.0                    1/0/00   Personal Auto   \n",
            "2  48767.0                 108.0                    1/0/00   Personal Auto   \n",
            "3      0.0                 106.0                    1/0/00  Corporate Auto   \n",
            "4  36357.0                  68.0                    1/0/00   Personal Auto   \n",
            "\n",
            "   Vehicle Class  Total Claim Amount  \n",
            "0  Four-Door Car            2.704934  \n",
            "1  Four-Door Car         1131.464935  \n",
            "2   Two-Door Car          566.472247  \n",
            "3            SUV          529.881344  \n",
            "4  Four-Door Car           17.269323  \n",
            "<class 'pandas.core.frame.DataFrame'>\n",
            "RangeIndex: 4008 entries, 0 to 4007\n",
            "Data columns (total 11 columns):\n",
            " #   Column                     Non-Null Count  Dtype  \n",
            "---  ------                     --------------  -----  \n",
            " 0   Customer                   1071 non-null   object \n",
            " 1   ST                         1071 non-null   object \n",
            " 2   GENDER                     954 non-null    object \n",
            " 3   Education                  1071 non-null   object \n",
            " 4   Customer Lifetime Value    1068 non-null   object \n",
            " 5   Income                     1071 non-null   float64\n",
            " 6   Monthly Premium Auto       1071 non-null   float64\n",
            " 7   Number of Open Complaints  1071 non-null   object \n",
            " 8   Policy Type                1071 non-null   object \n",
            " 9   Vehicle Class              1071 non-null   object \n",
            " 10  Total Claim Amount         1071 non-null   float64\n",
            "dtypes: float64(3), object(8)\n",
            "memory usage: 344.6+ KB\n",
            "None\n",
            "             Income  Monthly Premium Auto  Total Claim Amount\n",
            "count   1071.000000           1071.000000         1071.000000\n",
            "mean   39295.701214            193.234360          404.986909\n",
            "std    30469.427060           1601.190369          293.027260\n",
            "min        0.000000             61.000000            0.382107\n",
            "25%    14072.000000             68.000000          202.157702\n",
            "50%    36234.000000             83.000000          354.729129\n",
            "75%    64631.000000            109.500000          532.800000\n",
            "max    99960.000000          35354.000000         2893.239678\n",
            "Index(['Customer', 'ST', 'GENDER', 'Education', 'Customer Lifetime Value',\n",
            "       'Income', 'Monthly Premium Auto', 'Number of Open Complaints',\n",
            "       'Policy Type', 'Vehicle Class', 'Total Claim Amount'],\n",
            "      dtype='object')\n"
          ]
        }
      ],
      "source": [
        "import pandas as pd \n",
        "\n",
        "url = 'https://raw.githubusercontent.com/data-bootcamp-v4/data/main/file1.csv'\n",
        "df = pd.read_csv(url)\n",
        "print(df.head())\n",
        "print(df.info())\n",
        "print(df.describe())\n",
        "print(df.columns)"
      ]
    },
    {
      "cell_type": "code",
      "execution_count": 7,
      "id": "e37aa666",
      "metadata": {},
      "outputs": [
        {
          "name": "stdout",
          "output_type": "stream",
          "text": [
            "Index(['customer', 'state', 'gender', 'education', 'customer_lifetime_value',\n",
            "       'income', 'monthly_premium_auto', 'number_of_open_complaints',\n",
            "       'policy_type', 'vehicle_class', 'total_claim_amount'],\n",
            "      dtype='object')\n"
          ]
        }
      ],
      "source": [
        "df.columns = df.columns.str.replace(' ', '_').str.lower()\n",
        "df = df.rename(columns={'st': 'state'})\n",
        "print(df.columns)\n"
      ]
    },
    {
      "cell_type": "markdown",
      "id": "9cb501ec-36ff-4589-b872-6252bb150316",
      "metadata": {
        "id": "9cb501ec-36ff-4589-b872-6252bb150316"
      },
      "source": [
        "## Exercise 2: Cleaning invalid Values"
      ]
    },
    {
      "cell_type": "markdown",
      "id": "771fdcf3-8e20-4b06-9c24-3a93ba2b0909",
      "metadata": {
        "id": "771fdcf3-8e20-4b06-9c24-3a93ba2b0909"
      },
      "source": [
        "El conjunto de datos contiene columnas con valores inconsistentes e incorrectos que podrían afectar la precisión de nuestro análisis. Por lo tanto, necesitamos limpiar estas columnas para asegurarnos de que solo contengan datos válidos.\n",
        "\n",
        "Nota que este ejercicio se centrará únicamente en limpiar valores inconsistentes y no incluirá el manejo de valores nulos (NaN o None).\n",
        "\n",
        "*Pista*:\n",
        "- *La columna Gender contiene varios valores inconsistentes como \"F\", \"M\", \"Femal\", \"Male\", \"female\", que necesitan ser estandarizados, por ejemplo, a \"M\" y \"F\".*\n",
        "- *Las abreviaturas de los estados pueden ser reemplazadas por su nombre completo, por ejemplo, \"AZ\": \"Arizona\", \"Cali\": \"California\", \"WA\": \"Washington\".*\n",
        "- *En la columna Education, \"Bachelors\" podría ser reemplazado por \"Bachelor\".*\n",
        "- *En Customer Lifetime Value, elimina el carácter `%`.*\n",
        "- *En Vehicle Class, \"Sports Car\", \"Luxury SUV\" y \"Luxury Car\" podrían ser reemplazados por \"Luxury\".*"
      ]
    },
    {
      "cell_type": "code",
      "execution_count": 8,
      "id": "3f8ee5cb-50ab-48af-8a9f-9a389804033c",
      "metadata": {
        "id": "3f8ee5cb-50ab-48af-8a9f-9a389804033c",
        "vscode": {
          "languageId": "ruby"
        }
      },
      "outputs": [
        {
          "name": "stdout",
          "output_type": "stream",
          "text": [
            "  customer       state gender             education  customer_lifetime_value  \\\n",
            "0  RB50392  Washington    NaN                Master                      NaN   \n",
            "1  QZ44356     Arizona      F              Bachelor                697953.59   \n",
            "2  AI49188      Nevada      F              Bachelor               1288743.17   \n",
            "3  WW63253  California      M              Bachelor                764586.18   \n",
            "4  GA49547  Washington      M  High School or Below                536307.65   \n",
            "\n",
            "    income  monthly_premium_auto number_of_open_complaints     policy_type  \\\n",
            "0      0.0                1000.0                    1/0/00   Personal Auto   \n",
            "1      0.0                  94.0                    1/0/00   Personal Auto   \n",
            "2  48767.0                 108.0                    1/0/00   Personal Auto   \n",
            "3      0.0                 106.0                    1/0/00  Corporate Auto   \n",
            "4  36357.0                  68.0                    1/0/00   Personal Auto   \n",
            "\n",
            "   vehicle_class  total_claim_amount  \n",
            "0  Four-Door Car            2.704934  \n",
            "1  Four-Door Car         1131.464935  \n",
            "2   Two-Door Car          566.472247  \n",
            "3            SUV          529.881344  \n",
            "4  Four-Door Car           17.269323  \n"
          ]
        }
      ],
      "source": [
        "# Standardize the 'gender' column\n",
        "df['gender'] = df['gender'].str.strip().str.lower().replace({\n",
        "    'f': 'F', 'female': 'F', 'femal': 'F',\n",
        "    'm': 'M', 'male': 'M'\n",
        "})\n",
        "\n",
        "# Define state mapping\n",
        "state_mapping = {\n",
        "    'AZ': 'Arizona',\n",
        "    'WA': 'Washington',\n",
        "    'NV': 'Nevada',\n",
        "    'CA': 'California'\n",
        "}\n",
        "\n",
        "# Replace state abbreviations with full names\n",
        "df['state'] = df['state'].replace(state_mapping)\n",
        "\n",
        "# Standardize the 'education' column\n",
        "df['education'] = df['education'].str.replace('Bachelors', 'Bachelor')\n",
        "\n",
        "# Remove '%' from 'customer_lifetime_value' and convert to numeric\n",
        "df['customer_lifetime_value'] = df['customer_lifetime_value'].replace('%', '', regex=True).astype(float)\n",
        "\n",
        "# Replace specific vehicle classes with 'Luxury'\n",
        "df['vehicle_class'] = df['vehicle_class'].replace({\n",
        "    'Sports Car': 'Luxury',\n",
        "    'Luxury SUV': 'Luxury',\n",
        "    'Luxury Car': 'Luxury'\n",
        "})\n",
        "\n",
        "print(df.head())"
      ]
    },
    {
      "cell_type": "markdown",
      "id": "85ff78ce-0174-4890-9db3-8048b7d7d2d0",
      "metadata": {
        "id": "85ff78ce-0174-4890-9db3-8048b7d7d2d0"
      },
      "source": [
        "## Exercise 3: Formatting data types"
      ]
    },
    {
      "cell_type": "markdown",
      "id": "b91c2cf8-79a2-4baf-9f65-ff2fb22270bd",
      "metadata": {
        "id": "b91c2cf8-79a2-4baf-9f65-ff2fb22270bd"
      },
      "source": [
        "The data types of many columns in the dataset appear to be incorrect. This could impact the accuracy of our analysis. To ensure accurate analysis, we need to correct the data types of these columns. Please update the data types of the columns as appropriate."
      ]
    },
    {
      "cell_type": "markdown",
      "id": "43e5d853-ff9e-43b2-9d92-aef2f78764f3",
      "metadata": {
        "id": "43e5d853-ff9e-43b2-9d92-aef2f78764f3"
      },
      "source": [
        "Es importante tener en cuenta que este ejercicio no incluye el manejo de valores nulos (NaN o None)."
      ]
    },
    {
      "cell_type": "markdown",
      "id": "329ca691-9196-4419-8969-3596746237a1",
      "metadata": {
        "id": "329ca691-9196-4419-8969-3596746237a1"
      },
      "source": [
        "*Hint*:\n",
        "- *El valor de por vida del cliente debe ser numérico*  \n",
        "- *El número de quejas abiertas tiene un formato incorrecto. Observa los diferentes valores que toma con `unique()` y toma el valor intermedio. Por ejemplo, 1/5/00 debería ser 5. El número de quejas abiertas es una cadena: recuerda que puedes usar `split()` para manejarlo y tomar el número que necesitas. Finalmente, dado que debe ser numérico, convierte la columna a su tipo adecuado.*  "
      ]
    },
    {
      "cell_type": "code",
      "execution_count": 9,
      "id": "eb8f5991-73e9-405f-bf1c-6b7c589379a9",
      "metadata": {
        "id": "eb8f5991-73e9-405f-bf1c-6b7c589379a9"
      },
      "outputs": [
        {
          "name": "stdout",
          "output_type": "stream",
          "text": [
            "   customer_lifetime_value  number_of_open_complaints\n",
            "0                      NaN                        0.0\n",
            "1                697953.59                        0.0\n",
            "2               1288743.17                        0.0\n",
            "3                764586.18                        0.0\n",
            "4                536307.65                        0.0\n"
          ]
        }
      ],
      "source": [
        "# Ensure column names are standardized\n",
        "df.columns = df.columns.str.replace(' ', '_').str.lower()\n",
        "\n",
        "# Convert 'customer_lifetime_value' to numeric\n",
        "df['customer_lifetime_value'] = df['customer_lifetime_value'].replace('%', '', regex=True).astype(float)\n",
        "\n",
        "# Fix 'number_of_open_complaints' column\n",
        "df['number_of_open_complaints'] = df['number_of_open_complaints'].apply(\n",
        "    lambda x: int(x.split('/')[1]) if isinstance(x, str) and '/' in x else x\n",
        ").astype(float)\n",
        "\n",
        "print(df[['customer_lifetime_value', 'number_of_open_complaints']].head())"
      ]
    },
    {
      "cell_type": "markdown",
      "id": "14c52e28-2d0c-4dd2-8bd5-3476e34fadc1",
      "metadata": {
        "id": "14c52e28-2d0c-4dd2-8bd5-3476e34fadc1"
      },
      "source": [
        "## Exercise 4: Dealing with Null values"
      ]
    },
    {
      "cell_type": "markdown",
      "id": "34b9a20f-7d32-4417-975e-1b4dfb0e16cd",
      "metadata": {
        "id": "34b9a20f-7d32-4417-975e-1b4dfb0e16cd"
      },
      "source": [
        "Identify any columns with null or missing values. Identify how many null values each column has. You can use the `isnull()` function in pandas to find columns with null values.\n",
        "\n",
        "Decide on a strategy for handling the null values. There are several options, including:\n",
        "\n",
        "- Drop the rows or columns with null values\n",
        "- Fill the null values with a specific value (such as the column mean or median for numerical variables, and mode for categorical variables)\n",
        "- Fill the null values with the previous or next value in the column\n",
        "- Fill the null values based on a more complex algorithm or model (note: we haven't covered this yet)\n",
        "\n",
        "Implement your chosen strategy to handle the null values. You can use the `fillna()` function in pandas to fill null values or `dropna()` function to drop null values.\n",
        "\n",
        "Verify that your strategy has successfully handled the null values. You can use the `isnull()` function again to check if there are still null values in the dataset.\n",
        "\n",
        "Remember to document your process and explain your reasoning for choosing a particular strategy for handling null values.\n",
        "\n",
        "After formatting data types, as a last step, convert all the numeric variables to integers."
      ]
    },
    {
      "cell_type": "code",
      "execution_count": 10,
      "id": "f184fc35-7831-4836-a0a5-e7f99e01b40e",
      "metadata": {
        "id": "f184fc35-7831-4836-a0a5-e7f99e01b40e"
      },
      "outputs": [
        {
          "name": "stdout",
          "output_type": "stream",
          "text": [
            "Null values in each column:\n",
            "customer                     2937\n",
            "state                        2937\n",
            "gender                       3054\n",
            "education                    2937\n",
            "customer_lifetime_value      2940\n",
            "income                       2937\n",
            "monthly_premium_auto         2937\n",
            "number_of_open_complaints    2937\n",
            "policy_type                  2937\n",
            "vehicle_class                2937\n",
            "total_claim_amount           2937\n",
            "dtype: int64\n",
            "\n",
            "Null values after handling:\n",
            "customer                     0\n",
            "state                        0\n",
            "gender                       0\n",
            "education                    0\n",
            "customer_lifetime_value      0\n",
            "income                       0\n",
            "monthly_premium_auto         0\n",
            "number_of_open_complaints    0\n",
            "policy_type                  0\n",
            "vehicle_class                0\n",
            "total_claim_amount           0\n",
            "dtype: int64\n",
            "\n",
            "Data types after conversion:\n",
            "customer                     object\n",
            "state                        object\n",
            "gender                       object\n",
            "education                    object\n",
            "customer_lifetime_value       int64\n",
            "income                        int64\n",
            "monthly_premium_auto          int64\n",
            "number_of_open_complaints     int64\n",
            "policy_type                  object\n",
            "vehicle_class                object\n",
            "total_claim_amount            int64\n",
            "dtype: object\n"
          ]
        }
      ],
      "source": [
        "# Identify columns with null values and count them\n",
        "null_counts = df.isnull().sum()\n",
        "print(\"Null values in each column:\")\n",
        "print(null_counts)\n",
        "\n",
        "# Strategy for handling null values:\n",
        "# - For numerical columns, fill null values with the median\n",
        "# - For categorical columns, fill null values with the mode\n",
        "\n",
        "# Fill null values for numerical columns\n",
        "numerical_columns = df.select_dtypes(include=['float64']).columns\n",
        "for col in numerical_columns:\n",
        "    median_value = df[col].median()\n",
        "    df[col] = df[col].fillna(median_value)\n",
        "\n",
        "# Fill null values for categorical columns\n",
        "categorical_columns = df.select_dtypes(include=['object']).columns\n",
        "for col in categorical_columns:\n",
        "    mode_value = df[col].mode()[0]\n",
        "    df[col] = df[col].fillna(mode_value)\n",
        "\n",
        "# Verify that there are no null values remaining\n",
        "print(\"\\nNull values after handling:\")\n",
        "print(df.isnull().sum())\n",
        "\n",
        "# Convert all numeric variables to integers\n",
        "numeric_columns = df.select_dtypes(include=['float64']).columns\n",
        "df[numeric_columns] = df[numeric_columns].astype(int)\n",
        "\n",
        "print(\"\\nData types after conversion:\")\n",
        "print(df.dtypes)"
      ]
    },
    {
      "cell_type": "markdown",
      "id": "98416351-e999-4156-9834-9b00a311adfa",
      "metadata": {
        "id": "98416351-e999-4156-9834-9b00a311adfa"
      },
      "source": [
        "## Exercise 5: Dealing with duplicates"
      ]
    },
    {
      "cell_type": "markdown",
      "id": "ea0816a7-a18e-4d4c-b667-a8452a800bd1",
      "metadata": {
        "id": "ea0816a7-a18e-4d4c-b667-a8452a800bd1"
      },
      "source": [
        "Use the `.duplicated()` method to identify any duplicate rows in the dataframe.\n",
        "\n",
        "Decide on a strategy for handling the duplicates. Options include:\n",
        "- Dropping all duplicate rows\n",
        "- Keeping only the first occurrence of each duplicated row\n",
        "- Keeping only the last occurrence of each duplicated row\n",
        "- Dropping duplicates based on a subset of columns\n",
        "- Dropping duplicates based on a specific column\n",
        "\n",
        "Implement your chosen strategy using the `drop_duplicates()` function.\n",
        "\n",
        "Verify that your strategy has successfully handled the duplicates by checking for duplicates again using `.duplicated()`.\n",
        "\n",
        "Remember to document your process and explain your reasoning for choosing a particular strategy for handling duplicates.\n",
        "\n",
        "Save the cleaned dataset to a new CSV file.\n",
        "\n",
        "*Hint*: *after dropping duplicates, reset the index to ensure consistency*."
      ]
    },
    {
      "cell_type": "code",
      "execution_count": 11,
      "id": "1929362c-47ed-47cb-baca-358b78d401a0",
      "metadata": {
        "id": "1929362c-47ed-47cb-baca-358b78d401a0"
      },
      "outputs": [
        {
          "name": "stdout",
          "output_type": "stream",
          "text": [
            "Number of duplicate rows: 2936\n",
            "Number of duplicate rows after removal: 0\n",
            "Cleaned dataset saved to 'cleaned_data.csv'.\n"
          ]
        }
      ],
      "source": [
        "# Identify duplicate rows in the dataframe\n",
        "duplicates = df.duplicated()\n",
        "print(f\"Number of duplicate rows: {duplicates.sum()}\")\n",
        "\n",
        "# Strategy: Drop all duplicate rows and reset the index\n",
        "df = df.drop_duplicates().reset_index(drop=True)\n",
        "\n",
        "# Verify that duplicates have been removed\n",
        "duplicates_after = df.duplicated()\n",
        "print(f\"Number of duplicate rows after removal: {duplicates_after.sum()}\")\n",
        "\n",
        "# Save the cleaned dataset to a new CSV file\n",
        "df.to_csv('cleaned_data.csv', index=False)\n",
        "print(\"Cleaned dataset saved to 'cleaned_data.csv'.\")"
      ]
    },
    {
      "cell_type": "markdown",
      "id": "60840701-4783-40e2-b4d8-55303f9100c9",
      "metadata": {
        "id": "60840701-4783-40e2-b4d8-55303f9100c9"
      },
      "source": [
        "# Bonus: Challenge 2: creating functions on a separate `py` file"
      ]
    },
    {
      "cell_type": "markdown",
      "id": "9d1adb3a-17cf-4899-8041-da21a4337fb4",
      "metadata": {
        "id": "9d1adb3a-17cf-4899-8041-da21a4337fb4"
      },
      "source": [
        "Put all the data cleaning and formatting steps into functions, and create a main function that performs all the cleaning and formatting.\n",
        "\n",
        "Write these functions in separate .py file(s). By putting these steps into functions, we can make the code more modular and easier to maintain."
      ]
    },
    {
      "cell_type": "markdown",
      "id": "0e170dc2-b62c-417a-8248-e63ed18a70c4",
      "metadata": {
        "id": "0e170dc2-b62c-417a-8248-e63ed18a70c4"
      },
      "source": [
        "*Hint: autoreload module is a utility module in Python that allows you to automatically reload modules in the current session when changes are made to the source code. This can be useful in situations where you are actively developing code and want to see the effects of changes you make without having to constantly restart the Python interpreter or Jupyter Notebook kernel.*"
      ]
    },
    {
      "cell_type": "code",
      "execution_count": 12,
      "id": "a52c6dfc-cd11-4d01-bda4-f719fa33e9a4",
      "metadata": {
        "id": "a52c6dfc-cd11-4d01-bda4-f719fa33e9a4"
      },
      "outputs": [],
      "source": [
        "import pandas as pd\n",
        "\n",
        "# data_cleaning.py\n",
        "\n",
        "\n",
        "def load_data(url):\n",
        "    \"\"\"Load data from a given URL.\"\"\"\n",
        "    return pd.read_csv(url)\n",
        "\n",
        "def standardize_column_names(df):\n",
        "    \"\"\"Standardize column names to lowercase and replace spaces with underscores.\"\"\"\n",
        "    df.columns = df.columns.str.replace(' ', '_').str.lower()\n",
        "    df = df.rename(columns={'st': 'state'})\n",
        "    return df\n",
        "\n",
        "def clean_invalid_values(df):\n",
        "    \"\"\"Clean invalid values in the dataframe.\"\"\"\n",
        "    # Standardize the 'gender' column\n",
        "    df['gender'] = df['gender'].str.strip().str.lower().replace({\n",
        "        'f': 'F', 'female': 'F', 'femal': 'F',\n",
        "        'm': 'M', 'male': 'M'\n",
        "    })\n",
        "\n",
        "    # Define state mapping\n",
        "    state_mapping = {\n",
        "        'AZ': 'Arizona',\n",
        "        'WA': 'Washington',\n",
        "        'NV': 'Nevada',\n",
        "        'CA': 'California'\n",
        "    }\n",
        "\n",
        "    # Replace state abbreviations with full names\n",
        "    df['state'] = df['state'].replace(state_mapping)\n",
        "\n",
        "    # Standardize the 'education' column\n",
        "    df['education'] = df['education'].str.replace('Bachelors', 'Bachelor')\n",
        "\n",
        "    # Remove '%' from 'customer_lifetime_value' and convert to numeric\n",
        "    df['customer_lifetime_value'] = df['customer_lifetime_value'].replace('%', '', regex=True).astype(float)\n",
        "\n",
        "    # Replace specific vehicle classes with 'Luxury'\n",
        "    df['vehicle_class'] = df['vehicle_class'].replace({\n",
        "        'Sports Car': 'Luxury',\n",
        "        'Luxury SUV': 'Luxury',\n",
        "        'Luxury Car': 'Luxury'\n",
        "    })\n",
        "\n",
        "    return df\n",
        "\n",
        "def format_data_types(df):\n",
        "    \"\"\"Format data types of columns.\"\"\"\n",
        "    # Fix 'number_of_open_complaints' column\n",
        "    df['number_of_open_complaints'] = df['number_of_open_complaints'].apply(\n",
        "        lambda x: int(x.split('/')[1]) if isinstance(x, str) and '/' in x else x\n",
        "    ).astype(float)\n",
        "\n",
        "    # Convert all numeric variables to integers\n",
        "    numeric_columns = df.select_dtypes(include=['float64']).columns\n",
        "    df[numeric_columns] = df[numeric_columns].astype(int)\n",
        "\n",
        "    return df\n",
        "\n",
        "def handle_null_values(df):\n",
        "    \"\"\"Handle null values in the dataframe.\"\"\"\n",
        "    # Fill null values for numerical columns with median\n",
        "    numerical_columns = df.select_dtypes(include=['float64']).columns\n",
        "    for col in numerical_columns:\n",
        "        median_value = df[col].median()\n",
        "        df[col] = df[col].fillna(median_value)\n",
        "\n",
        "    # Fill null values for categorical columns with mode\n",
        "    categorical_columns = df.select_dtypes(include=['object']).columns\n",
        "    for col in categorical_columns:\n",
        "        mode_value = df[col].mode()[0]\n",
        "        df[col] = df[col].fillna(mode_value)\n",
        "\n",
        "    return df\n",
        "\n",
        "def remove_duplicates(df):\n",
        "    \"\"\"Remove duplicate rows from the dataframe.\"\"\"\n",
        "    return df.drop_duplicates().reset_index(drop=True)\n",
        "\n",
        "def save_cleaned_data(df, filename):\n",
        "    \"\"\"Save the cleaned dataframe to a CSV file.\"\"\"\n",
        "    df.to_csv(filename, index=False)\n",
        "\n",
        "def main(url, output_file):\n",
        "    \"\"\"Main function to perform all data cleaning and formatting.\"\"\"\n",
        "    df = load_data(url)\n",
        "    df = standardize_column_names(df)\n",
        "    df = clean_invalid_values(df)\n",
        "    df = format_data_types(df)\n",
        "    df = handle_null_values(df)\n",
        "    df = remove_duplicates(df)\n",
        "    save_cleaned_data(df, output_file)\n",
        "    print(f\"Cleaned dataset saved to '{output_file}'.\")"
      ]
    },
    {
      "cell_type": "markdown",
      "id": "80f846bb-3f5e-4ca2-96c0-900728daca5a",
      "metadata": {
        "id": "80f846bb-3f5e-4ca2-96c0-900728daca5a",
        "tags": []
      },
      "source": [
        "# Bonus: Challenge 3: Analyzing Clean and Formated Data"
      ]
    },
    {
      "cell_type": "markdown",
      "id": "9021630e-cc90-446c-b5bd-264d6c864207",
      "metadata": {
        "id": "9021630e-cc90-446c-b5bd-264d6c864207"
      },
      "source": [
        "You have been tasked with analyzing the data to identify potential areas for improving customer retention and profitability. Your goal is to identify customers with a high policy claim amount and a low customer lifetime value.\n",
        "\n",
        "In the Pandas Lab, we only looked at high policy claim amounts because we couldn't look into low customer lifetime values. If we had tried to work with that column, we wouldn't have been able to because customer lifetime value wasn't clean and in its proper format. So after cleaning and formatting the data, let's get some more interesting insights!\n",
        "\n",
        "Instructions:\n",
        "\n",
        "- Review the statistics again for total claim amount and customer lifetime value to gain an understanding of the data.\n",
        "- To identify potential areas for improving customer retention and profitability, we want to focus on customers with a high policy claim amount and a low customer lifetime value. Consider customers with a high policy claim amount to be those in the top 25% of the total claim amount, and clients with a low customer lifetime value to be those in the bottom 25% of the customer lifetime value. Create a pandas DataFrame object that contains information about customers with a policy claim amount greater than the 75th percentile and a customer lifetime value in the bottom 25th percentile.\n",
        "- Use DataFrame methods to calculate summary statistics about the high policy claim amount and low customer lifetime value data. To do so, select both columns of the dataframe simultaneously and pass it to the `.describe()` method. This will give you descriptive statistics, such as mean, median, standard deviation, minimum and maximum values for both columns at the same time, allowing you to compare and analyze their characteristics."
      ]
    },
    {
      "cell_type": "code",
      "execution_count": 13,
      "id": "211e82b5-461a-4d6f-8a23-4deccb84173c",
      "metadata": {
        "id": "211e82b5-461a-4d6f-8a23-4deccb84173c"
      },
      "outputs": [
        {
          "name": "stdout",
          "output_type": "stream",
          "text": [
            "Customers with high policy claim amount and low customer lifetime value:\n",
            "     customer       state gender             education  \\\n",
            "17    OE15005        Cali      F               College   \n",
            "23    TZ98966      Nevada      F              Bachelor   \n",
            "26    US89481  California      F              Bachelor   \n",
            "38    CM61827      Oregon      F              Bachelor   \n",
            "42    IL19217  California      F              Bachelor   \n",
            "62    FG63582      Oregon      F              Bachelor   \n",
            "135   MS41162     Arizona      F  High School or Below   \n",
            "140   DS81757      Oregon      M               College   \n",
            "158   KA61892     Arizona      M               College   \n",
            "160   ND87334  California      M  High School or Below   \n",
            "170   TS19868  California      M               College   \n",
            "184   AB13432  California      M              Bachelor   \n",
            "204   FL34139  California      M  High School or Below   \n",
            "250   IA63417     Arizona      F  High School or Below   \n",
            "269   VZ51506     Arizona      F  High School or Below   \n",
            "279   OH60605      Oregon      F  High School or Below   \n",
            "304   RR77985      Oregon      F              Bachelor   \n",
            "388   JF36291  California      M               College   \n",
            "415   ZF84449      Oregon      F               College   \n",
            "448   NL93182      Nevada      M              Bachelor   \n",
            "450   WE68644      Oregon      F              Bachelor   \n",
            "467   AU96286      Oregon      F              Bachelor   \n",
            "486   FY51713     Arizona      F              Bachelor   \n",
            "500   XN11823      Nevada      F              Bachelor   \n",
            "502   PX17116      Nevada      M               College   \n",
            "565   XS12556  California      F               College   \n",
            "590   UK41984     Arizona      F                Doctor   \n",
            "593   ZK21724      Oregon      F  High School or Below   \n",
            "638   DM95829  California      M               College   \n",
            "645   JA41698      Nevada      M              Bachelor   \n",
            "669   ED50963  California      F  High School or Below   \n",
            "709   NZ15548      Oregon      M              Bachelor   \n",
            "788   TE13577      Oregon      F               College   \n",
            "853   TV25678  Washington      M               College   \n",
            "891   KJ87930        Cali      F              Bachelor   \n",
            "908   XM72420     Arizona      F  High School or Below   \n",
            "949   TD10493      Oregon      F  High School or Below   \n",
            "1019  OT52034        Cali      M              Bachelor   \n",
            "1022  UI73201        Cali      M               College   \n",
            "1068  GS98873     Arizona      F              Bachelor   \n",
            "\n",
            "      customer_lifetime_value  income  monthly_premium_auto  \\\n",
            "17                     394524   28855                   101   \n",
            "23                     245019       0                    73   \n",
            "26                     394637       0                   111   \n",
            "38                     309003       0                    90   \n",
            "42                     393900   60021                    99   \n",
            "62                     333976       0                    94   \n",
            "135                    402296       0                   117   \n",
            "140                    247012       0                    74   \n",
            "158                    387364   28142                   105   \n",
            "160                    228759       0                    63   \n",
            "170                    241313   27501                    63   \n",
            "184                    373583       0                   110   \n",
            "204                    368811       0                    63   \n",
            "250                    400151   19782                   108   \n",
            "269                    359531       0                   103   \n",
            "279                    365253   39679                    92   \n",
            "304                    288774       0                    80   \n",
            "388                    387364   28142                   105   \n",
            "415                    372672       0                   112   \n",
            "448                    254945       0                    78   \n",
            "450                    380392   20325                   100   \n",
            "467                    316765       0                    92   \n",
            "486                    357076   56168                    88   \n",
            "500                    376446   92600                    94   \n",
            "502                    362345       0                   111   \n",
            "565                    368309       0                   101   \n",
            "590                    383960       0                   112   \n",
            "593                    401654       0                   111   \n",
            "638                    252395   16244                    68   \n",
            "645                    309953       0                   102   \n",
            "669                    268886   32808                    68   \n",
            "709                    402381   41833                   103   \n",
            "788                    231973       0                    64   \n",
            "853                    354090       0                   101   \n",
            "891                    388650       0                   112   \n",
            "908                    391936   66676                    97   \n",
            "949                    289873       0                    96   \n",
            "1019                   386477   24204                    99   \n",
            "1022                   366737   62375                    92   \n",
            "1068                   323912   16061                    88   \n",
            "\n",
            "      number_of_open_complaints     policy_type  vehicle_class  \\\n",
            "17                            0   Personal Auto            SUV   \n",
            "23                            3  Corporate Auto  Four-Door Car   \n",
            "26                            0   Personal Auto  Four-Door Car   \n",
            "38                            0   Personal Auto   Two-Door Car   \n",
            "42                            0   Personal Auto  Four-Door Car   \n",
            "62                            0   Personal Auto   Two-Door Car   \n",
            "135                           0   Personal Auto            SUV   \n",
            "140                           0   Personal Auto   Two-Door Car   \n",
            "158                           0   Personal Auto         Luxury   \n",
            "160                           0  Corporate Auto   Two-Door Car   \n",
            "170                           0   Personal Auto  Four-Door Car   \n",
            "184                           0   Personal Auto            SUV   \n",
            "204                           3   Personal Auto  Four-Door Car   \n",
            "250                           0   Personal Auto   Two-Door Car   \n",
            "269                           0  Corporate Auto         Luxury   \n",
            "279                           0   Personal Auto   Two-Door Car   \n",
            "304                           0   Personal Auto  Four-Door Car   \n",
            "388                           0   Personal Auto         Luxury   \n",
            "415                           1    Special Auto         Luxury   \n",
            "448                           0  Corporate Auto  Four-Door Car   \n",
            "450                           0   Personal Auto         Luxury   \n",
            "467                           0  Corporate Auto  Four-Door Car   \n",
            "486                           0   Personal Auto  Four-Door Car   \n",
            "500                           0  Corporate Auto   Two-Door Car   \n",
            "502                           2  Corporate Auto            SUV   \n",
            "565                           0  Corporate Auto         Luxury   \n",
            "590                           2   Personal Auto            SUV   \n",
            "593                           0   Personal Auto            SUV   \n",
            "638                           0   Personal Auto   Two-Door Car   \n",
            "645                           5  Corporate Auto            SUV   \n",
            "669                           1   Personal Auto  Four-Door Car   \n",
            "709                           0   Personal Auto  Four-Door Car   \n",
            "788                           0   Personal Auto  Four-Door Car   \n",
            "853                           0   Personal Auto            SUV   \n",
            "891                           0  Corporate Auto            SUV   \n",
            "908                           0   Personal Auto  Four-Door Car   \n",
            "949                           4   Personal Auto  Four-Door Car   \n",
            "1019                          1   Personal Auto  Four-Door Car   \n",
            "1022                          0   Personal Auto   Two-Door Car   \n",
            "1068                          0   Personal Auto  Four-Door Car   \n",
            "\n",
            "      total_claim_amount  \n",
            "17                   647  \n",
            "23                   554  \n",
            "26                   799  \n",
            "38                   648  \n",
            "42                   882  \n",
            "62                   863  \n",
            "135                  975  \n",
            "140                  721  \n",
            "158                  701  \n",
            "160                  679  \n",
            "170                  542  \n",
            "184                  792  \n",
            "204                  669  \n",
            "250                  773  \n",
            "269                  741  \n",
            "279                  641  \n",
            "304                  676  \n",
            "388                  701  \n",
            "415                  806  \n",
            "448                  845  \n",
            "450                  668  \n",
            "467                  662  \n",
            "486                  614  \n",
            "500                  842  \n",
            "502                 1171  \n",
            "565                  564  \n",
            "590                  537  \n",
            "593                  799  \n",
            "638                  623  \n",
            "645                  862  \n",
            "669                  541  \n",
            "709                  643  \n",
            "788                  632  \n",
            "853                  727  \n",
            "891                 1185  \n",
            "908                  558  \n",
            "949                  691  \n",
            "1019                 707  \n",
            "1022                 618  \n",
            "1068                 633  \n",
            "\n",
            "Summary statistics for high claim amount and low lifetime value:\n",
            "       total_claim_amount  customer_lifetime_value\n",
            "count           40.000000                40.000000\n",
            "mean           723.300000            341577.425000\n",
            "std            149.216449             56921.466178\n",
            "min            537.000000            228759.000000\n",
            "25%            632.750000            304220.500000\n",
            "50%            685.000000            365995.000000\n",
            "75%            799.000000            387364.000000\n",
            "max           1185.000000            402381.000000\n"
          ]
        }
      ],
      "source": [
        "# Calculate the 75th percentile for total claim amount and 25th percentile for customer lifetime value\n",
        "claim_amount_75th = df['total_claim_amount'].quantile(0.75)\n",
        "lifetime_value_25th = df['customer_lifetime_value'].quantile(0.25)\n",
        "\n",
        "# Filter the dataframe for customers meeting the criteria\n",
        "high_claim_low_value = df[\n",
        "    (df['total_claim_amount'] > claim_amount_75th) &\n",
        "    (df['customer_lifetime_value'] < lifetime_value_25th)\n",
        "]\n",
        "\n",
        "# Display the filtered dataframe\n",
        "print(\"Customers with high policy claim amount and low customer lifetime value:\")\n",
        "print(high_claim_low_value)\n",
        "\n",
        "# Calculate summary statistics for the filtered data\n",
        "summary_stats = high_claim_low_value[['total_claim_amount', 'customer_lifetime_value']].describe()\n",
        "print(\"\\nSummary statistics for high claim amount and low lifetime value:\")\n",
        "print(summary_stats)"
      ]
    }
  ],
  "metadata": {
    "colab": {
      "provenance": []
    },
    "kernelspec": {
      "display_name": "venv",
      "language": "python",
      "name": "python3"
    },
    "language_info": {
      "codemirror_mode": {
        "name": "ipython",
        "version": 3
      },
      "file_extension": ".py",
      "mimetype": "text/x-python",
      "name": "python",
      "nbconvert_exporter": "python",
      "pygments_lexer": "ipython3",
      "version": "3.13.3"
    }
  },
  "nbformat": 4,
  "nbformat_minor": 5
}
