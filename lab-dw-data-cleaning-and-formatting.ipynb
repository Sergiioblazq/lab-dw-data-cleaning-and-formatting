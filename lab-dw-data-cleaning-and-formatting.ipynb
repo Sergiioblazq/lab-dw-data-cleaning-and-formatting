{
  "cells": [
    {
      "cell_type": "markdown",
      "id": "25d7736c-ba17-4aff-b6bb-66eba20fbf4e",
      "metadata": {
        "id": "25d7736c-ba17-4aff-b6bb-66eba20fbf4e"
      },
      "source": [
        "# Lab | Data Cleaning and Formatting"
      ]
    },
    {
      "cell_type": "markdown",
      "id": "d1973e9e-8be6-4039-b70e-d73ee0d94c99",
      "metadata": {
        "id": "d1973e9e-8be6-4039-b70e-d73ee0d94c99"
      },
      "source": [
        "In this lab, we will be working with the customer data from an insurance company, which can be found in the CSV file located at the following link: https://raw.githubusercontent.com/data-bootcamp-v4/data/main/file1.csv\n"
      ]
    },
    {
      "cell_type": "markdown",
      "id": "31b8a9e7-7db9-4604-991b-ef6771603e57",
      "metadata": {
        "id": "31b8a9e7-7db9-4604-991b-ef6771603e57"
      },
      "source": [
        "# Challenge 1: Data Cleaning and Formatting"
      ]
    },
    {
      "cell_type": "markdown",
      "id": "81553f19-9f2c-484b-8940-520aff884022",
      "metadata": {
        "id": "81553f19-9f2c-484b-8940-520aff884022"
      },
      "source": [
        "## Exercise 1: Cleaning Column Names"
      ]
    },
    {
      "cell_type": "markdown",
      "id": "34a929f4-1be4-4fa8-adda-42ffd920be90",
      "metadata": {
        "id": "34a929f4-1be4-4fa8-adda-42ffd920be90"
      },
      "source": [
        "To ensure consistency and ease of use, standardize the column names of the dataframe. Start by taking a first look at the dataframe and identifying any column names that need to be modified. Use appropriate naming conventions and make sure that column names are descriptive and informative.\n",
        "\n",
        "*Hint*:\n",
        "- *Column names should be in lower case*\n",
        "- *White spaces in column names should be replaced by `_`*\n",
        "- *`st` could be replaced for `state`*"
      ]
    },
    {
      "cell_type": "markdown",
      "id": "63d9fb54",
      "metadata": {},
      "source": [
        "```markdown\n",
        "Carguemos el archivo CSV desde la URL proporcionada en el dataframe de pandas para comenzar con el proceso de limpieza y análisis de datos. Utilizaremos la variable `url` que contiene el enlace al archivo.\n",
        "```"
      ]
    },
    {
      "cell_type": "code",
      "execution_count": 30,
      "id": "5810735c-8056-4442-bbf2-dda38d3e284a",
      "metadata": {
        "id": "5810735c-8056-4442-bbf2-dda38d3e284a"
      },
      "outputs": [
        {
          "name": "stdout",
          "output_type": "stream",
          "text": [
            "  Customer          ST GENDER             Education Customer Lifetime Value  \\\n",
            "0  RB50392  Washington    NaN                Master                     NaN   \n",
            "1  QZ44356     Arizona      F              Bachelor              697953.59%   \n",
            "2  AI49188      Nevada      F              Bachelor             1288743.17%   \n",
            "3  WW63253  California      M              Bachelor              764586.18%   \n",
            "4  GA49547  Washington      M  High School or Below              536307.65%   \n",
            "\n",
            "    Income  Monthly Premium Auto Number of Open Complaints     Policy Type  \\\n",
            "0      0.0                1000.0                    1/0/00   Personal Auto   \n",
            "1      0.0                  94.0                    1/0/00   Personal Auto   \n",
            "2  48767.0                 108.0                    1/0/00   Personal Auto   \n",
            "3      0.0                 106.0                    1/0/00  Corporate Auto   \n",
            "4  36357.0                  68.0                    1/0/00   Personal Auto   \n",
            "\n",
            "   Vehicle Class  Total Claim Amount  \n",
            "0  Four-Door Car            2.704934  \n",
            "1  Four-Door Car         1131.464935  \n",
            "2   Two-Door Car          566.472247  \n",
            "3            SUV          529.881344  \n",
            "4  Four-Door Car           17.269323  \n",
            "<class 'pandas.core.frame.DataFrame'>\n",
            "RangeIndex: 4008 entries, 0 to 4007\n",
            "Data columns (total 11 columns):\n",
            " #   Column                     Non-Null Count  Dtype  \n",
            "---  ------                     --------------  -----  \n",
            " 0   Customer                   1071 non-null   object \n",
            " 1   ST                         1071 non-null   object \n",
            " 2   GENDER                     954 non-null    object \n",
            " 3   Education                  1071 non-null   object \n",
            " 4   Customer Lifetime Value    1068 non-null   object \n",
            " 5   Income                     1071 non-null   float64\n",
            " 6   Monthly Premium Auto       1071 non-null   float64\n",
            " 7   Number of Open Complaints  1071 non-null   object \n",
            " 8   Policy Type                1071 non-null   object \n",
            " 9   Vehicle Class              1071 non-null   object \n",
            " 10  Total Claim Amount         1071 non-null   float64\n",
            "dtypes: float64(3), object(8)\n",
            "memory usage: 344.6+ KB\n",
            "None\n",
            "             Income  Monthly Premium Auto  Total Claim Amount\n",
            "count   1071.000000           1071.000000         1071.000000\n",
            "mean   39295.701214            193.234360          404.986909\n",
            "std    30469.427060           1601.190369          293.027260\n",
            "min        0.000000             61.000000            0.382107\n",
            "25%    14072.000000             68.000000          202.157702\n",
            "50%    36234.000000             83.000000          354.729129\n",
            "75%    64631.000000            109.500000          532.800000\n",
            "max    99960.000000          35354.000000         2893.239678\n",
            "Index(['Customer', 'ST', 'GENDER', 'Education', 'Customer Lifetime Value',\n",
            "       'Income', 'Monthly Premium Auto', 'Number of Open Complaints',\n",
            "       'Policy Type', 'Vehicle Class', 'Total Claim Amount'],\n",
            "      dtype='object')\n"
          ]
        }
      ],
      "source": [
        "import pandas as pd \n",
        "\n",
        "url = 'https://raw.githubusercontent.com/data-bootcamp-v4/data/main/file1.csv'\n",
        "df = pd.read_csv(url)\n",
        "print(df.head())\n",
        "print(df.info())\n",
        "print(df.describe())\n",
        "print(df.columns)"
      ]
    },
    {
      "cell_type": "code",
      "execution_count": 17,
      "id": "e37aa666",
      "metadata": {},
      "outputs": [
        {
          "name": "stdout",
          "output_type": "stream",
          "text": [
            "Index(['customer', 'state', 'gender', 'education', 'customer_lifetime_value',\n",
            "       'income', 'monthly_premium_auto', 'number_of_open_complaints',\n",
            "       'policy_type', 'vehicle_class', 'total_claim_amount'],\n",
            "      dtype='object')\n"
          ]
        }
      ],
      "source": [
        "df.columns = df.columns.str.replace(' ', '_').str.lower()\n",
        "df = df.rename(columns={'st': 'state'})\n",
        "print(df.columns)\n"
      ]
    },
    {
      "cell_type": "markdown",
      "id": "9cb501ec-36ff-4589-b872-6252bb150316",
      "metadata": {
        "id": "9cb501ec-36ff-4589-b872-6252bb150316"
      },
      "source": [
        "## Exercise 2: Cleaning invalid Values"
      ]
    },
    {
      "cell_type": "markdown",
      "id": "771fdcf3-8e20-4b06-9c24-3a93ba2b0909",
      "metadata": {
        "id": "771fdcf3-8e20-4b06-9c24-3a93ba2b0909"
      },
      "source": [
        "El conjunto de datos contiene columnas con valores inconsistentes e incorrectos que podrían afectar la precisión de nuestro análisis. Por lo tanto, necesitamos limpiar estas columnas para asegurarnos de que solo contengan datos válidos.\n",
        "\n",
        "Nota que este ejercicio se centrará únicamente en limpiar valores inconsistentes y no incluirá el manejo de valores nulos (NaN o None).\n",
        "\n",
        "*Pista*:\n",
        "- *La columna Gender contiene varios valores inconsistentes como \"F\", \"M\", \"Femal\", \"Male\", \"female\", que necesitan ser estandarizados, por ejemplo, a \"M\" y \"F\".*\n",
        "- *Las abreviaturas de los estados pueden ser reemplazadas por su nombre completo, por ejemplo, \"AZ\": \"Arizona\", \"Cali\": \"California\", \"WA\": \"Washington\".*\n",
        "- *En la columna Education, \"Bachelors\" podría ser reemplazado por \"Bachelor\".*\n",
        "- *En Customer Lifetime Value, elimina el carácter `%`.*\n",
        "- *En Vehicle Class, \"Sports Car\", \"Luxury SUV\" y \"Luxury Car\" podrían ser reemplazados por \"Luxury\".*"
      ]
    },
    {
      "cell_type": "code",
      "execution_count": 29,
      "id": "3f8ee5cb-50ab-48af-8a9f-9a389804033c",
      "metadata": {
        "id": "3f8ee5cb-50ab-48af-8a9f-9a389804033c",
        "vscode": {
          "languageId": "ruby"
        }
      },
      "outputs": [
        {
          "name": "stdout",
          "output_type": "stream",
          "text": [
            "  customer       state gender             education  customer_lifetime_value  \\\n",
            "0  RB50392  Washington    NaN                Master                      NaN   \n",
            "1  QZ44356     Arizona      F              Bachelor                697953.59   \n",
            "2  AI49188      Nevada      F              Bachelor               1288743.17   \n",
            "3  WW63253  California      M              Bachelor                764586.18   \n",
            "4  GA49547  Washington      M  High School or Below                536307.65   \n",
            "\n",
            "    income  monthly_premium_auto  number_of_open_complaints     policy_type  \\\n",
            "0      0.0                1000.0                        0.0   Personal Auto   \n",
            "1      0.0                  94.0                        0.0   Personal Auto   \n",
            "2  48767.0                 108.0                        0.0   Personal Auto   \n",
            "3      0.0                 106.0                        0.0  Corporate Auto   \n",
            "4  36357.0                  68.0                        0.0   Personal Auto   \n",
            "\n",
            "   vehicle_class  total_claim_amount  \n",
            "0  Four-Door Car            2.704934  \n",
            "1  Four-Door Car         1131.464935  \n",
            "2   Two-Door Car          566.472247  \n",
            "3            SUV          529.881344  \n",
            "4  Four-Door Car           17.269323  \n"
          ]
        }
      ],
      "source": [
        "# Standardize the 'gender' column\n",
        "df['gender'] = df['gender'].str.strip().str.lower().replace({\n",
        "    'f': 'F', 'female': 'F', 'femal': 'F',\n",
        "    'm': 'M', 'male': 'M'\n",
        "})\n",
        "\n",
        "# Define state mapping\n",
        "state_mapping = {\n",
        "    'AZ': 'Arizona',\n",
        "    'WA': 'Washington',\n",
        "    'NV': 'Nevada',\n",
        "    'CA': 'California'\n",
        "}\n",
        "\n",
        "# Replace state abbreviations with full names\n",
        "df['state'] = df['state'].replace(state_mapping)\n",
        "\n",
        "# Standardize the 'education' column\n",
        "df['education'] = df['education'].str.replace('Bachelors', 'Bachelor')\n",
        "\n",
        "# Remove '%' from 'customer_lifetime_value' and convert to numeric\n",
        "df['customer_lifetime_value'] = df['customer_lifetime_value'].replace('%', '', regex=True).astype(float)\n",
        "\n",
        "# Replace specific vehicle classes with 'Luxury'\n",
        "df['vehicle_class'] = df['vehicle_class'].replace({\n",
        "    'Sports Car': 'Luxury',\n",
        "    'Luxury SUV': 'Luxury',\n",
        "    'Luxury Car': 'Luxury'\n",
        "})\n",
        "\n",
        "print(df.head())"
      ]
    },
    {
      "cell_type": "markdown",
      "id": "85ff78ce-0174-4890-9db3-8048b7d7d2d0",
      "metadata": {
        "id": "85ff78ce-0174-4890-9db3-8048b7d7d2d0"
      },
      "source": [
        "## Exercise 3: Formatting data types"
      ]
    },
    {
      "cell_type": "markdown",
      "id": "b91c2cf8-79a2-4baf-9f65-ff2fb22270bd",
      "metadata": {
        "id": "b91c2cf8-79a2-4baf-9f65-ff2fb22270bd"
      },
      "source": [
        "The data types of many columns in the dataset appear to be incorrect. This could impact the accuracy of our analysis. To ensure accurate analysis, we need to correct the data types of these columns. Please update the data types of the columns as appropriate."
      ]
    },
    {
      "cell_type": "markdown",
      "id": "43e5d853-ff9e-43b2-9d92-aef2f78764f3",
      "metadata": {
        "id": "43e5d853-ff9e-43b2-9d92-aef2f78764f3"
      },
      "source": [
        "Es importante tener en cuenta que este ejercicio no incluye el manejo de valores nulos (NaN o None)."
      ]
    },
    {
      "cell_type": "markdown",
      "id": "329ca691-9196-4419-8969-3596746237a1",
      "metadata": {
        "id": "329ca691-9196-4419-8969-3596746237a1"
      },
      "source": [
        "*Hint*:\n",
        "- *El valor de por vida del cliente debe ser numérico*  \n",
        "- *El número de quejas abiertas tiene un formato incorrecto. Observa los diferentes valores que toma con `unique()` y toma el valor intermedio. Por ejemplo, 1/5/00 debería ser 5. El número de quejas abiertas es una cadena: recuerda que puedes usar `split()` para manejarlo y tomar el número que necesitas. Finalmente, dado que debe ser numérico, convierte la columna a su tipo adecuado.*  "
      ]
    },
    {
      "cell_type": "code",
      "execution_count": 33,
      "id": "eb8f5991-73e9-405f-bf1c-6b7c589379a9",
      "metadata": {
        "id": "eb8f5991-73e9-405f-bf1c-6b7c589379a9"
      },
      "outputs": [
        {
          "name": "stdout",
          "output_type": "stream",
          "text": [
            "   customer_lifetime_value  number_of_open_complaints\n",
            "0                      NaN                        0.0\n",
            "1                697953.59                        0.0\n",
            "2               1288743.17                        0.0\n",
            "3                764586.18                        0.0\n",
            "4                536307.65                        0.0\n"
          ]
        }
      ],
      "source": [
        "# Ensure column names are standardized\n",
        "df.columns = df.columns.str.replace(' ', '_').str.lower()\n",
        "\n",
        "# Convert 'customer_lifetime_value' to numeric\n",
        "df['customer_lifetime_value'] = df['customer_lifetime_value'].replace('%', '', regex=True).astype(float)\n",
        "\n",
        "# Fix 'number_of_open_complaints' column\n",
        "df['number_of_open_complaints'] = df['number_of_open_complaints'].apply(\n",
        "    lambda x: int(x.split('/')[1]) if isinstance(x, str) and '/' in x else x\n",
        ").astype(float)\n",
        "\n",
        "print(df[['customer_lifetime_value', 'number_of_open_complaints']].head())"
      ]
    },
    {
      "cell_type": "markdown",
      "id": "14c52e28-2d0c-4dd2-8bd5-3476e34fadc1",
      "metadata": {
        "id": "14c52e28-2d0c-4dd2-8bd5-3476e34fadc1"
      },
      "source": [
        "## Exercise 4: Dealing with Null values"
      ]
    },
    {
      "cell_type": "markdown",
      "id": "34b9a20f-7d32-4417-975e-1b4dfb0e16cd",
      "metadata": {
        "id": "34b9a20f-7d32-4417-975e-1b4dfb0e16cd"
      },
      "source": [
        "Identify any columns with null or missing values. Identify how many null values each column has. You can use the `isnull()` function in pandas to find columns with null values.\n",
        "\n",
        "Decide on a strategy for handling the null values. There are several options, including:\n",
        "\n",
        "- Drop the rows or columns with null values\n",
        "- Fill the null values with a specific value (such as the column mean or median for numerical variables, and mode for categorical variables)\n",
        "- Fill the null values with the previous or next value in the column\n",
        "- Fill the null values based on a more complex algorithm or model (note: we haven't covered this yet)\n",
        "\n",
        "Implement your chosen strategy to handle the null values. You can use the `fillna()` function in pandas to fill null values or `dropna()` function to drop null values.\n",
        "\n",
        "Verify that your strategy has successfully handled the null values. You can use the `isnull()` function again to check if there are still null values in the dataset.\n",
        "\n",
        "Remember to document your process and explain your reasoning for choosing a particular strategy for handling null values.\n",
        "\n",
        "After formatting data types, as a last step, convert all the numeric variables to integers."
      ]
    },
    {
      "cell_type": "code",
      "execution_count": 35,
      "id": "f184fc35-7831-4836-a0a5-e7f99e01b40e",
      "metadata": {
        "id": "f184fc35-7831-4836-a0a5-e7f99e01b40e"
      },
      "outputs": [
        {
          "name": "stdout",
          "output_type": "stream",
          "text": [
            "Null values in each column:\n",
            "customer                     0\n",
            "st                           0\n",
            "gender                       0\n",
            "education                    0\n",
            "customer_lifetime_value      0\n",
            "income                       0\n",
            "monthly_premium_auto         0\n",
            "number_of_open_complaints    0\n",
            "policy_type                  0\n",
            "vehicle_class                0\n",
            "total_claim_amount           0\n",
            "dtype: int64\n",
            "\n",
            "Null values after handling:\n",
            "customer                     0\n",
            "st                           0\n",
            "gender                       0\n",
            "education                    0\n",
            "customer_lifetime_value      0\n",
            "income                       0\n",
            "monthly_premium_auto         0\n",
            "number_of_open_complaints    0\n",
            "policy_type                  0\n",
            "vehicle_class                0\n",
            "total_claim_amount           0\n",
            "dtype: int64\n",
            "\n",
            "Data types after conversion:\n",
            "customer                     object\n",
            "st                           object\n",
            "gender                       object\n",
            "education                    object\n",
            "customer_lifetime_value       int64\n",
            "income                        int64\n",
            "monthly_premium_auto          int64\n",
            "number_of_open_complaints     int64\n",
            "policy_type                  object\n",
            "vehicle_class                object\n",
            "total_claim_amount            int64\n",
            "dtype: object\n"
          ]
        }
      ],
      "source": [
        "# Identify columns with null values and count them\n",
        "null_counts = df.isnull().sum()\n",
        "print(\"Null values in each column:\")\n",
        "print(null_counts)\n",
        "\n",
        "# Strategy for handling null values:\n",
        "# - For numerical columns, fill null values with the median\n",
        "# - For categorical columns, fill null values with the mode\n",
        "\n",
        "# Fill null values for numerical columns\n",
        "numerical_columns = df.select_dtypes(include=['float64']).columns\n",
        "for col in numerical_columns:\n",
        "    median_value = df[col].median()\n",
        "    df[col] = df[col].fillna(median_value)\n",
        "\n",
        "# Fill null values for categorical columns\n",
        "categorical_columns = df.select_dtypes(include=['object']).columns\n",
        "for col in categorical_columns:\n",
        "    mode_value = df[col].mode()[0]\n",
        "    df[col] = df[col].fillna(mode_value)\n",
        "\n",
        "# Verify that there are no null values remaining\n",
        "print(\"\\nNull values after handling:\")\n",
        "print(df.isnull().sum())\n",
        "\n",
        "# Convert all numeric variables to integers\n",
        "numeric_columns = df.select_dtypes(include=['float64']).columns\n",
        "df[numeric_columns] = df[numeric_columns].astype(int)\n",
        "\n",
        "print(\"\\nData types after conversion:\")\n",
        "print(df.dtypes)"
      ]
    },
    {
      "cell_type": "markdown",
      "id": "98416351-e999-4156-9834-9b00a311adfa",
      "metadata": {
        "id": "98416351-e999-4156-9834-9b00a311adfa"
      },
      "source": [
        "## Exercise 5: Dealing with duplicates"
      ]
    },
    {
      "cell_type": "markdown",
      "id": "ea0816a7-a18e-4d4c-b667-a8452a800bd1",
      "metadata": {
        "id": "ea0816a7-a18e-4d4c-b667-a8452a800bd1"
      },
      "source": [
        "Use the `.duplicated()` method to identify any duplicate rows in the dataframe.\n",
        "\n",
        "Decide on a strategy for handling the duplicates. Options include:\n",
        "- Dropping all duplicate rows\n",
        "- Keeping only the first occurrence of each duplicated row\n",
        "- Keeping only the last occurrence of each duplicated row\n",
        "- Dropping duplicates based on a subset of columns\n",
        "- Dropping duplicates based on a specific column\n",
        "\n",
        "Implement your chosen strategy using the `drop_duplicates()` function.\n",
        "\n",
        "Verify that your strategy has successfully handled the duplicates by checking for duplicates again using `.duplicated()`.\n",
        "\n",
        "Remember to document your process and explain your reasoning for choosing a particular strategy for handling duplicates.\n",
        "\n",
        "Save the cleaned dataset to a new CSV file.\n",
        "\n",
        "*Hint*: *after dropping duplicates, reset the index to ensure consistency*."
      ]
    },
    {
      "cell_type": "code",
      "execution_count": 36,
      "id": "1929362c-47ed-47cb-baca-358b78d401a0",
      "metadata": {
        "id": "1929362c-47ed-47cb-baca-358b78d401a0"
      },
      "outputs": [
        {
          "name": "stdout",
          "output_type": "stream",
          "text": [
            "Number of duplicate rows: 2936\n",
            "Number of duplicate rows after removal: 0\n",
            "Cleaned dataset saved to 'cleaned_data.csv'.\n"
          ]
        }
      ],
      "source": [
        "# Identify duplicate rows in the dataframe\n",
        "duplicates = df.duplicated()\n",
        "print(f\"Number of duplicate rows: {duplicates.sum()}\")\n",
        "\n",
        "# Strategy: Drop all duplicate rows and reset the index\n",
        "df = df.drop_duplicates().reset_index(drop=True)\n",
        "\n",
        "# Verify that duplicates have been removed\n",
        "duplicates_after = df.duplicated()\n",
        "print(f\"Number of duplicate rows after removal: {duplicates_after.sum()}\")\n",
        "\n",
        "# Save the cleaned dataset to a new CSV file\n",
        "df.to_csv('cleaned_data.csv', index=False)\n",
        "print(\"Cleaned dataset saved to 'cleaned_data.csv'.\")"
      ]
    },
    {
      "cell_type": "markdown",
      "id": "60840701-4783-40e2-b4d8-55303f9100c9",
      "metadata": {
        "id": "60840701-4783-40e2-b4d8-55303f9100c9"
      },
      "source": [
        "# Bonus: Challenge 2: creating functions on a separate `py` file"
      ]
    },
    {
      "cell_type": "markdown",
      "id": "9d1adb3a-17cf-4899-8041-da21a4337fb4",
      "metadata": {
        "id": "9d1adb3a-17cf-4899-8041-da21a4337fb4"
      },
      "source": [
        "Put all the data cleaning and formatting steps into functions, and create a main function that performs all the cleaning and formatting.\n",
        "\n",
        "Write these functions in separate .py file(s). By putting these steps into functions, we can make the code more modular and easier to maintain."
      ]
    },
    {
      "cell_type": "markdown",
      "id": "0e170dc2-b62c-417a-8248-e63ed18a70c4",
      "metadata": {
        "id": "0e170dc2-b62c-417a-8248-e63ed18a70c4"
      },
      "source": [
        "*Hint: autoreload module is a utility module in Python that allows you to automatically reload modules in the current session when changes are made to the source code. This can be useful in situations where you are actively developing code and want to see the effects of changes you make without having to constantly restart the Python interpreter or Jupyter Notebook kernel.*"
      ]
    },
    {
      "cell_type": "code",
      "execution_count": null,
      "id": "a52c6dfc-cd11-4d01-bda4-f719fa33e9a4",
      "metadata": {
        "id": "a52c6dfc-cd11-4d01-bda4-f719fa33e9a4"
      },
      "outputs": [],
      "source": []
    },
    {
      "cell_type": "markdown",
      "id": "80f846bb-3f5e-4ca2-96c0-900728daca5a",
      "metadata": {
        "id": "80f846bb-3f5e-4ca2-96c0-900728daca5a",
        "tags": []
      },
      "source": [
        "# Bonus: Challenge 3: Analyzing Clean and Formated Data"
      ]
    },
    {
      "cell_type": "markdown",
      "id": "9021630e-cc90-446c-b5bd-264d6c864207",
      "metadata": {
        "id": "9021630e-cc90-446c-b5bd-264d6c864207"
      },
      "source": [
        "You have been tasked with analyzing the data to identify potential areas for improving customer retention and profitability. Your goal is to identify customers with a high policy claim amount and a low customer lifetime value.\n",
        "\n",
        "In the Pandas Lab, we only looked at high policy claim amounts because we couldn't look into low customer lifetime values. If we had tried to work with that column, we wouldn't have been able to because customer lifetime value wasn't clean and in its proper format. So after cleaning and formatting the data, let's get some more interesting insights!\n",
        "\n",
        "Instructions:\n",
        "\n",
        "- Review the statistics again for total claim amount and customer lifetime value to gain an understanding of the data.\n",
        "- To identify potential areas for improving customer retention and profitability, we want to focus on customers with a high policy claim amount and a low customer lifetime value. Consider customers with a high policy claim amount to be those in the top 25% of the total claim amount, and clients with a low customer lifetime value to be those in the bottom 25% of the customer lifetime value. Create a pandas DataFrame object that contains information about customers with a policy claim amount greater than the 75th percentile and a customer lifetime value in the bottom 25th percentile.\n",
        "- Use DataFrame methods to calculate summary statistics about the high policy claim amount and low customer lifetime value data. To do so, select both columns of the dataframe simultaneously and pass it to the `.describe()` method. This will give you descriptive statistics, such as mean, median, standard deviation, minimum and maximum values for both columns at the same time, allowing you to compare and analyze their characteristics."
      ]
    },
    {
      "cell_type": "code",
      "execution_count": null,
      "id": "211e82b5-461a-4d6f-8a23-4deccb84173c",
      "metadata": {
        "id": "211e82b5-461a-4d6f-8a23-4deccb84173c"
      },
      "outputs": [],
      "source": [
        "# Your code here"
      ]
    }
  ],
  "metadata": {
    "colab": {
      "provenance": []
    },
    "kernelspec": {
      "display_name": "venv",
      "language": "python",
      "name": "python3"
    },
    "language_info": {
      "codemirror_mode": {
        "name": "ipython",
        "version": 3
      },
      "file_extension": ".py",
      "mimetype": "text/x-python",
      "name": "python",
      "nbconvert_exporter": "python",
      "pygments_lexer": "ipython3",
      "version": "3.13.3"
    }
  },
  "nbformat": 4,
  "nbformat_minor": 5
}
